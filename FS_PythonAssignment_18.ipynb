{
 "cells": [
  {
   "cell_type": "markdown",
   "id": "b94a5634",
   "metadata": {},
   "source": [
    "### 1.Create a zoo.py file first. Define the hours() function, which prints the string 'Open 9-5 daily'. Then, use the interactive interpreter to import the zoo module and call its hours() function."
   ]
  },
  {
   "cell_type": "code",
   "execution_count": 18,
   "id": "d66b9274",
   "metadata": {},
   "outputs": [
    {
     "data": {
      "text/plain": [
       "'open 9-5 daily'"
      ]
     },
     "execution_count": 18,
     "metadata": {},
     "output_type": "execute_result"
    }
   ],
   "source": [
    "import zoo\n",
    "\n",
    "zoo.hour(\"s\")"
   ]
  },
  {
   "cell_type": "code",
   "execution_count": null,
   "id": "5785e8fc",
   "metadata": {},
   "outputs": [],
   "source": []
  },
  {
   "cell_type": "markdown",
   "id": "f73fe551",
   "metadata": {},
   "source": [
    "### 2. In the interactive interpreter, import the zoo module as menagerie and call its hours() function."
   ]
  },
  {
   "cell_type": "code",
   "execution_count": 22,
   "id": "33c33519",
   "metadata": {},
   "outputs": [
    {
     "data": {
      "text/plain": [
       "'open 9-5 daily'"
      ]
     },
     "execution_count": 22,
     "metadata": {},
     "output_type": "execute_result"
    }
   ],
   "source": [
    "import zoo as menagerie\n",
    "\n",
    "menagerie.hour('s')"
   ]
  },
  {
   "cell_type": "code",
   "execution_count": null,
   "id": "205221fc",
   "metadata": {},
   "outputs": [],
   "source": []
  },
  {
   "cell_type": "markdown",
   "id": "f027084f",
   "metadata": {},
   "source": [
    "### 3.Using the interpreter, explicitly import and call the hours() function from zoo."
   ]
  },
  {
   "cell_type": "code",
   "execution_count": 23,
   "id": "3b4529df",
   "metadata": {},
   "outputs": [
    {
     "data": {
      "text/plain": [
       "'open 9-5 daily'"
      ]
     },
     "execution_count": 23,
     "metadata": {},
     "output_type": "execute_result"
    }
   ],
   "source": [
    "from zoo import hour\n",
    "\n",
    "hour('s')"
   ]
  },
  {
   "cell_type": "code",
   "execution_count": null,
   "id": "f4027b59",
   "metadata": {},
   "outputs": [],
   "source": []
  },
  {
   "cell_type": "markdown",
   "id": "58a3c5bd",
   "metadata": {},
   "source": [
    "### 4. Import the hours() function as info and call it."
   ]
  },
  {
   "cell_type": "code",
   "execution_count": 25,
   "id": "983d06b4",
   "metadata": {},
   "outputs": [
    {
     "data": {
      "text/plain": [
       "'open 9-5 daily'"
      ]
     },
     "execution_count": 25,
     "metadata": {},
     "output_type": "execute_result"
    }
   ],
   "source": [
    "from zoo import hour as info\n",
    "\n",
    "info('s')"
   ]
  },
  {
   "cell_type": "code",
   "execution_count": null,
   "id": "304113ca",
   "metadata": {},
   "outputs": [],
   "source": []
  },
  {
   "cell_type": "markdown",
   "id": "4ce5e939",
   "metadata": {},
   "source": [
    "### 5.Create a plain dictionary with the key-value pairs 'a': 1, 'b': 2, and 'c': 3, and print it out."
   ]
  },
  {
   "cell_type": "code",
   "execution_count": 26,
   "id": "8611a717",
   "metadata": {},
   "outputs": [
    {
     "name": "stdout",
     "output_type": "stream",
     "text": [
      "{'a': 1, 'b': 2, 'c': 3}\n"
     ]
    }
   ],
   "source": [
    "plain = {\n",
    "    'a': 1,\n",
    "    'b': 2,\n",
    "    'c': 3,\n",
    "}\n",
    "print(plain)"
   ]
  },
  {
   "cell_type": "code",
   "execution_count": null,
   "id": "7ee4f9ea",
   "metadata": {},
   "outputs": [],
   "source": []
  },
  {
   "cell_type": "markdown",
   "id": "cac24abe",
   "metadata": {},
   "source": [
    "### 6. Make an OrderedDict called fancy from the same pairs listed in 5 and print it. Did it print in the same order as plain?"
   ]
  },
  {
   "cell_type": "code",
   "execution_count": 27,
   "id": "9f2f5b1f",
   "metadata": {},
   "outputs": [
    {
     "name": "stdout",
     "output_type": "stream",
     "text": [
      "dict(pairs): {'a': 1, 'b': 2, 'c': 3}\n",
      "fancy= OrderedDict([('a', 1), ('b', 2), ('c', 3)])\n"
     ]
    }
   ],
   "source": [
    "from collections import OrderedDict\n",
    "\n",
    "pairs = (\n",
    "    ('a', 1), ('b', 2), ('c', 3),\n",
    ")\n",
    "\n",
    "fancy = OrderedDict(pairs)\n",
    "print('dict(pairs):', dict(pairs))\n",
    "print('fancy=', fancy)"
   ]
  },
  {
   "cell_type": "code",
   "execution_count": null,
   "id": "07efc0d2",
   "metadata": {},
   "outputs": [],
   "source": []
  },
  {
   "cell_type": "markdown",
   "id": "2ff4dcc7",
   "metadata": {},
   "source": [
    "### 7. Make a default dictionary called dict_of_lists and pass it the argument list. Make the list dict_of_lists['a'] and append the value 'something for a' to it in one assignment. Print dict_of_lists['a']."
   ]
  },
  {
   "cell_type": "code",
   "execution_count": 28,
   "id": "ab4cef11",
   "metadata": {},
   "outputs": [
    {
     "name": "stdout",
     "output_type": "stream",
     "text": [
      "['something for a']\n"
     ]
    }
   ],
   "source": [
    "from collections import defaultdict\n",
    "\n",
    "dict_of_lists = defaultdict(list)\n",
    "dict_of_lists['a'].append('something for a')\n",
    "print(dict_of_lists['a'])"
   ]
  },
  {
   "cell_type": "code",
   "execution_count": 29,
   "id": "20b0ea17",
   "metadata": {},
   "outputs": [
    {
     "name": "stdout",
     "output_type": "stream",
     "text": [
      "defaultdict(<class 'list'>, {'b': 3, 'a': [3]})\n",
      "defaultdict(<class 'int'>, {'c': 3})\n"
     ]
    }
   ],
   "source": [
    "from collections import defaultdict\n",
    "\n",
    "D1 = defaultdict(list, b=3)\n",
    "D1['a'].append(3)\n",
    "print(D1)\n",
    "\n",
    "D2 = defaultdict(int) # will be initialized to 0\n",
    "D2['c'] += 3\n",
    "print(D2)"
   ]
  },
  {
   "cell_type": "code",
   "execution_count": null,
   "id": "87eb03d1",
   "metadata": {},
   "outputs": [],
   "source": []
  }
 ],
 "metadata": {
  "kernelspec": {
   "display_name": "Python 3",
   "language": "python",
   "name": "python3"
  },
  "language_info": {
   "codemirror_mode": {
    "name": "ipython",
    "version": 3
   },
   "file_extension": ".py",
   "mimetype": "text/x-python",
   "name": "python",
   "nbconvert_exporter": "python",
   "pygments_lexer": "ipython3",
   "version": "3.8.8"
  }
 },
 "nbformat": 4,
 "nbformat_minor": 5
}
